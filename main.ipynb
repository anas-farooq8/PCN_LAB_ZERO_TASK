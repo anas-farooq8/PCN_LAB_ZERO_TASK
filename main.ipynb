{
 "cells": [
  {
   "cell_type": "code",
   "execution_count": null,
   "metadata": {},
   "outputs": [],
   "source": [
    "# Necessary Imports\n",
    "import re\n",
    "import pandas as pd"
   ]
  },
  {
   "cell_type": "code",
   "execution_count": null,
   "metadata": {},
   "outputs": [],
   "source": [
    "# Reading the data\n",
    "data=pd.read_csv(\"data.csv\")"
   ]
  },
  {
   "cell_type": "markdown",
   "metadata": {},
   "source": [
    "# Pre-Processing"
   ]
  },
  {
   "cell_type": "code",
   "execution_count": null,
   "metadata": {},
   "outputs": [],
   "source": [
    "# Function to handle price ranges\n",
    "def process_price(price):\n",
    "    if 'to' in price:\n",
    "        prices = re.findall(r'\\d+\\.\\d+', price)\n",
    "        return (float(prices[0]) + float(prices[1])) / 2\n",
    "    else:\n",
    "        return float(price.replace('$', ''))\n",
    "\n",
    "# Apply the function to the 'Price' column\n",
    "data['Price'] = data['Price'].apply(process_price)\n",
    "\n",
    "# Convert 'Star-Rating' to numeric (extract the first number before 'out of 5 stars' and convert to float)\n",
    "data['Star-Rating'] = data['Star-Rating'].str.extract('(\\d+\\.\\d+)').astype(float)\n",
    "\n",
    "# Extract numeric values from 'Sales' (extract the first number and convert to integer)\n",
    "data['Sales'] = data['Sales'].str.extract('(\\d+)').fillna(0).astype(int)\n",
    "\n",
    "# Fill missing 'Best-Seller' with a default value 'No'\n",
    "data['Best-Seller'] = data['Best-Seller'].replace('', 'No')\n",
    "\n",
    "# Extract numeric values from 'Ratings-Count' (extract the first number and convert to integer)\n",
    "data['Ratings-Count'] = data['Ratings-Count'].str.extract('(\\d+)').fillna(0).astype(int)\n"
   ]
  },
  {
   "cell_type": "code",
   "execution_count": null,
   "metadata": {},
   "outputs": [],
   "source": [
    "# Printing the Data\n",
    "data"
   ]
  },
  {
   "cell_type": "code",
   "execution_count": null,
   "metadata": {},
   "outputs": [],
   "source": [
    "data['Star-Rating'].unique()  "
   ]
  },
  {
   "cell_type": "markdown",
   "metadata": {},
   "source": [
    "## Store data into DB"
   ]
  },
  {
   "cell_type": "code",
   "execution_count": null,
   "metadata": {},
   "outputs": [],
   "source": [
    "\n",
    "import sqlite3\n",
    "# Connect to SQLite database (it will create the database if it does not exist)\n",
    "conn = sqlite3.connect('books_data.db')\n",
    "cursor = conn.cursor()\n"
   ]
  },
  {
   "cell_type": "code",
   "execution_count": null,
   "metadata": {},
   "outputs": [],
   "source": [
    "# Create the table if it does not exist\n",
    "create_table_query = '''\n",
    "CREATE TABLE IF NOT EXISTS books (\n",
    "    Title TEXT,\n",
    "    Price REAL,\n",
    "    Star_Rating REAL,\n",
    "    Sales INTEGER,\n",
    "    Status TEXT,\n",
    "    Best_Seller TEXT,\n",
    "    Ratings_Count INTEGER,\n",
    "    Author TEXT\n",
    ")\n",
    "'''\n",
    "cursor.execute(create_table_query)\n"
   ]
  },
  {
   "cell_type": "code",
   "execution_count": null,
   "metadata": {},
   "outputs": [],
   "source": [
    "# Insert the data into the table\n",
    "for index, row in data.iterrows():\n",
    "    cursor.execute('''\n",
    "    INSERT INTO books (Title, Price, Star_Rating, Sales, Status, Best_Seller, Ratings_Count, Author)\n",
    "    VALUES (?, ?, ?, ?, ?, ?, ?, ?)\n",
    "    ''', tuple(row))\n",
    "\n",
    "# Commit the transaction and close the connection\n",
    "conn.commit()\n",
    "conn.close()\n",
    "\n",
    "print(\"Data has been successfully inserted into the database.\")"
   ]
  },
  {
   "cell_type": "code",
   "execution_count": null,
   "metadata": {},
   "outputs": [],
   "source": [
    "# Printing some data from the database\n",
    "conn = sqlite3.connect('books_data.db')\n",
    "cursor = conn.cursor()\n",
    "\n",
    "cursor.execute('''SELECT * FROM books LIMIT 5''')\n",
    "rows = cursor.fetchall()\n",
    "for row in rows:\n",
    "    print(row)\n",
    "\n",
    "# Close the Connection\n",
    "conn.close()"
   ]
  }
 ],
 "metadata": {
  "kernelspec": {
   "display_name": "Python 3",
   "language": "python",
   "name": "python3"
  },
  "language_info": {
   "codemirror_mode": {
    "name": "ipython",
    "version": 3
   },
   "file_extension": ".py",
   "mimetype": "text/x-python",
   "name": "python",
   "nbconvert_exporter": "python",
   "pygments_lexer": "ipython3",
   "version": "3.12.4"
  }
 },
 "nbformat": 4,
 "nbformat_minor": 2
}
